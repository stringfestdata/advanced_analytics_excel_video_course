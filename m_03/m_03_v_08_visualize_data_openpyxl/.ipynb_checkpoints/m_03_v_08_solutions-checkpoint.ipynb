{
 "cells": [
  {
   "cell_type": "code",
   "execution_count": 1,
   "id": "e3f8c06d",
   "metadata": {},
   "outputs": [],
   "source": [
    "import pandas as pd\n",
    "import seaborn as sns\n",
    "from openpyxl import Workbook\n",
    "from openpyxl.chart import BarChart, Reference\n",
    "from openpyxl.drawing.image import Image\n",
    "from openpyxl.utils.dataframe import dataframe_to_rows\n",
    "from openpyxl.utils import get_column_letter\n",
    "from openpyxl.utils.dataframe import dataframe_to_rows\n",
    "from openpyxl.worksheet.table import Table, TableStyleInfo\n",
    "from openpyxl.styles import PatternFill"
   ]
  },
  {
   "cell_type": "code",
   "execution_count": 2,
   "id": "0f2ac185",
   "metadata": {},
   "outputs": [
    {
     "data": {
      "text/html": [
       "<div>\n",
       "<style scoped>\n",
       "    .dataframe tbody tr th:only-of-type {\n",
       "        vertical-align: middle;\n",
       "    }\n",
       "\n",
       "    .dataframe tbody tr th {\n",
       "        vertical-align: top;\n",
       "    }\n",
       "\n",
       "    .dataframe thead th {\n",
       "        text-align: right;\n",
       "    }\n",
       "</style>\n",
       "<table border=\"1\" class=\"dataframe\">\n",
       "  <thead>\n",
       "    <tr style=\"text-align: right;\">\n",
       "      <th></th>\n",
       "      <th>email</th>\n",
       "      <th>cohort</th>\n",
       "      <th>pre</th>\n",
       "      <th>post</th>\n",
       "      <th>age</th>\n",
       "      <th>sex</th>\n",
       "      <th>education</th>\n",
       "      <th>satisfaction</th>\n",
       "      <th>study_hours</th>\n",
       "    </tr>\n",
       "  </thead>\n",
       "  <tbody>\n",
       "    <tr>\n",
       "      <th>0</th>\n",
       "      <td>smehaffey0@creativecommons.org</td>\n",
       "      <td>4</td>\n",
       "      <td>485</td>\n",
       "      <td>494</td>\n",
       "      <td>32</td>\n",
       "      <td>Male</td>\n",
       "      <td>Bachelor's</td>\n",
       "      <td>2</td>\n",
       "      <td>36.6</td>\n",
       "    </tr>\n",
       "    <tr>\n",
       "      <th>1</th>\n",
       "      <td>kbridgnell5@webnode.com</td>\n",
       "      <td>1</td>\n",
       "      <td>484</td>\n",
       "      <td>503</td>\n",
       "      <td>32</td>\n",
       "      <td>Female</td>\n",
       "      <td>Bachelor's</td>\n",
       "      <td>6</td>\n",
       "      <td>32.2</td>\n",
       "    </tr>\n",
       "    <tr>\n",
       "      <th>2</th>\n",
       "      <td>abotham6@usda.gov</td>\n",
       "      <td>1</td>\n",
       "      <td>497</td>\n",
       "      <td>501</td>\n",
       "      <td>30</td>\n",
       "      <td>Female</td>\n",
       "      <td>Bachelor's</td>\n",
       "      <td>10</td>\n",
       "      <td>32.3</td>\n",
       "    </tr>\n",
       "    <tr>\n",
       "      <th>3</th>\n",
       "      <td>szeal7@pinterest.com</td>\n",
       "      <td>2</td>\n",
       "      <td>451</td>\n",
       "      <td>457</td>\n",
       "      <td>32</td>\n",
       "      <td>Male</td>\n",
       "      <td>Bachelor's</td>\n",
       "      <td>4</td>\n",
       "      <td>26.2</td>\n",
       "    </tr>\n",
       "    <tr>\n",
       "      <th>4</th>\n",
       "      <td>ikidby8@who.int</td>\n",
       "      <td>4</td>\n",
       "      <td>452</td>\n",
       "      <td>448</td>\n",
       "      <td>29</td>\n",
       "      <td>Female</td>\n",
       "      <td>Bachelor's</td>\n",
       "      <td>9</td>\n",
       "      <td>27.9</td>\n",
       "    </tr>\n",
       "  </tbody>\n",
       "</table>\n",
       "</div>"
      ],
      "text/plain": [
       "                            email  cohort  pre  post  age     sex   education  \\\n",
       "0  smehaffey0@creativecommons.org       4  485   494   32    Male  Bachelor's   \n",
       "1         kbridgnell5@webnode.com       1  484   503   32  Female  Bachelor's   \n",
       "2               abotham6@usda.gov       1  497   501   30  Female  Bachelor's   \n",
       "3            szeal7@pinterest.com       2  451   457   32    Male  Bachelor's   \n",
       "4                 ikidby8@who.int       4  452   448   29  Female  Bachelor's   \n",
       "\n",
       "   satisfaction  study_hours  \n",
       "0             2         36.6  \n",
       "1             6         32.2  \n",
       "2            10         32.3  \n",
       "3             4         26.2  \n",
       "4             9         27.9  "
      ]
     },
     "execution_count": 2,
     "metadata": {},
     "output_type": "execute_result"
    }
   ],
   "source": [
    "# Read in the data \n",
    "complete_cases = pd.read_excel('data/complete_cases.xlsx')\n",
    "complete_cases.head()"
   ]
  },
  {
   "cell_type": "code",
   "execution_count": 3,
   "id": "0fd3ad78",
   "metadata": {},
   "outputs": [],
   "source": [
    "# Create a new workbook and select the worksheet\n",
    "wb = Workbook()\n",
    "\n",
    "# Assign the active worksheet to ws\n",
    "ws = wb.active"
   ]
  },
  {
   "cell_type": "code",
   "execution_count": 4,
   "id": "edd76bd6",
   "metadata": {},
   "outputs": [],
   "source": [
    "ws['A1'] = \"Average pre score\"\n",
    "ws['B1'] = round(complete_cases['pre'].mean(), 2)  # Round output to two decimals\n",
    "\n",
    "ws['A2'] = \"Average post score\"\n",
    "ws['B2'] = round(complete_cases['post'].mean(), 2)"
   ]
  },
  {
   "cell_type": "code",
   "execution_count": 5,
   "id": "94deab69",
   "metadata": {},
   "outputs": [],
   "source": [
    "ws.column_dimensions['A'].width = 16"
   ]
  },
  {
   "cell_type": "code",
   "execution_count": 6,
   "id": "bfa5bafe",
   "metadata": {},
   "outputs": [],
   "source": [
    "# Create a bar chart object\n",
    "chart = BarChart()\n",
    "\n",
    "# Define the data range\n",
    "data = Reference(ws, min_col=2, min_row=1, max_col=2, max_row=2)"
   ]
  },
  {
   "cell_type": "code",
   "execution_count": 7,
   "id": "3e18f1bb",
   "metadata": {},
   "outputs": [],
   "source": [
    "# Add data to the chart\n",
    "chart.add_data(data)\n",
    "\n",
    "# Set chart title, axis labels\n",
    "chart.title = \"Score Comparison\"\n",
    "chart.x_axis.title = \"Score Type\"\n",
    "chart.y_axis.title = \"Score Value\""
   ]
  },
  {
   "cell_type": "code",
   "execution_count": 8,
   "id": "8483b7ef",
   "metadata": {},
   "outputs": [],
   "source": [
    "# Set category names\n",
    "categories = Reference(ws, min_col=1, min_row=1, max_row=2)\n",
    "chart.set_categories(categories)\n",
    "\n",
    "# Remove the legend\n",
    "chart.legend = None"
   ]
  },
  {
   "cell_type": "code",
   "execution_count": 9,
   "id": "5974a68f",
   "metadata": {},
   "outputs": [],
   "source": [
    "# Add the chart to a specific location on the worksheet\n",
    "ws.add_chart(chart, \"D1\")"
   ]
  },
  {
   "cell_type": "code",
   "execution_count": 10,
   "id": "8e40bae6",
   "metadata": {},
   "outputs": [
    {
     "ename": "NameError",
     "evalue": "name 'contestants' is not defined",
     "output_type": "error",
     "traceback": [
      "\u001b[1;31m---------------------------------------------------------------------------\u001b[0m",
      "\u001b[1;31mNameError\u001b[0m                                 Traceback (most recent call last)",
      "Cell \u001b[1;32mIn[10], line 1\u001b[0m\n\u001b[1;32m----> 1\u001b[0m sns\u001b[38;5;241m.\u001b[39mpairplot(\u001b[43mcontestants\u001b[49m[[\u001b[38;5;124m'\u001b[39m\u001b[38;5;124mpre\u001b[39m\u001b[38;5;124m'\u001b[39m, \u001b[38;5;124m'\u001b[39m\u001b[38;5;124mpost\u001b[39m\u001b[38;5;124m'\u001b[39m, \u001b[38;5;124m'\u001b[39m\u001b[38;5;124mage\u001b[39m\u001b[38;5;124m'\u001b[39m, \u001b[38;5;124m'\u001b[39m\u001b[38;5;124mstudy_hours\u001b[39m\u001b[38;5;124m'\u001b[39m]])\n",
      "\u001b[1;31mNameError\u001b[0m: name 'contestants' is not defined"
     ]
    }
   ],
   "source": [
    "sns.pairplot(complete_cases[['pre', 'post', 'age', 'study_hours']])"
   ]
  },
  {
   "cell_type": "code",
   "execution_count": null,
   "id": "1f4e8d74",
   "metadata": {},
   "outputs": [],
   "source": [
    "sns_plot = sns.pairplot(complete_cases[['pre', 'post', 'age', 'study_hours', 'sex']],\n",
    "            hue='sex')"
   ]
  },
  {
   "cell_type": "code",
   "execution_count": null,
   "id": "372ced78",
   "metadata": {},
   "outputs": [],
   "source": [
    "# Save pairplot to disk as an image\n",
    "sns_plot.savefig('output/pairplot.png')\n",
    "\n",
    "# Load saved image into the worksheet\n",
    "image = Image('output/pairplot.png')\n",
    "ws.add_image(image, 'A20')"
   ]
  },
  {
   "cell_type": "code",
   "execution_count": null,
   "id": "16818a95",
   "metadata": {},
   "outputs": [],
   "source": [
    "wb.save('output/m_03_v_08_output.xlsx')"
   ]
  }
 ],
 "metadata": {
  "kernelspec": {
   "display_name": "Python 3 (ipykernel)",
   "language": "python",
   "name": "python3"
  },
  "language_info": {
   "codemirror_mode": {
    "name": "ipython",
    "version": 3
   },
   "file_extension": ".py",
   "mimetype": "text/x-python",
   "name": "python",
   "nbconvert_exporter": "python",
   "pygments_lexer": "ipython3",
   "version": "3.9.18"
  }
 },
 "nbformat": 4,
 "nbformat_minor": 5
}
