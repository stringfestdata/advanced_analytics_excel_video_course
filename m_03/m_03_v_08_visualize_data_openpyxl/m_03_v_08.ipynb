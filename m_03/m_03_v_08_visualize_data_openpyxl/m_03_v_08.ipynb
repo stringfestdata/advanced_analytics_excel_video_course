{
 "cells": [
  {
   "cell_type": "code",
   "execution_count": null,
   "id": "472f8a6b",
   "metadata": {},
   "outputs": [],
   "source": [
    "import pandas as pd\n",
    "import seaborn as sns\n",
    "from openpyxl import Workbook\n",
    "from openpyxl.chart import BarChart, Reference\n",
    "from openpyxl.drawing.image import Image\n",
    "from openpyxl.utils.dataframe import dataframe_to_rows\n",
    "from openpyxl.utils import get_column_letter\n",
    "from openpyxl.worksheet.table import Table, TableStyleInfo\n",
    "from openpyxl.styles import PatternFill"
   ]
  },
  {
   "cell_type": "code",
   "execution_count": null,
   "id": "e0f5515a",
   "metadata": {},
   "outputs": [],
   "source": [
    "# Read in the data "
   ]
  },
  {
   "cell_type": "code",
   "execution_count": null,
   "id": "dc3ea232",
   "metadata": {},
   "outputs": [],
   "source": [
    "# Create a new workbook and select the worksheet\n",
    "\n",
    "# Assign the active worksheet to ws\n"
   ]
  },
  {
   "cell_type": "code",
   "execution_count": null,
   "id": "295befca",
   "metadata": {},
   "outputs": [],
   "source": []
  },
  {
   "cell_type": "code",
   "execution_count": null,
   "id": "d9ca7c15",
   "metadata": {},
   "outputs": [],
   "source": []
  },
  {
   "cell_type": "code",
   "execution_count": null,
   "id": "0ff9bf4e",
   "metadata": {},
   "outputs": [],
   "source": [
    "# Create a bar chart object\n",
    "\n",
    "\n",
    "# Define the data range\n"
   ]
  },
  {
   "cell_type": "code",
   "execution_count": null,
   "id": "a74996e0",
   "metadata": {},
   "outputs": [],
   "source": [
    "# Add data to the chart\n",
    "\n",
    "\n",
    "# Set chart title, axis labels\n"
   ]
  },
  {
   "cell_type": "code",
   "execution_count": null,
   "id": "068758fa",
   "metadata": {},
   "outputs": [],
   "source": [
    "# Set category names\n",
    "\n",
    "# Remove the legend\n"
   ]
  },
  {
   "cell_type": "code",
   "execution_count": null,
   "id": "cd6576a3",
   "metadata": {},
   "outputs": [],
   "source": [
    "# Add the chart to a specific location on the worksheet\n"
   ]
  },
  {
   "cell_type": "code",
   "execution_count": null,
   "id": "13e96a7e",
   "metadata": {},
   "outputs": [],
   "source": []
  },
  {
   "cell_type": "code",
   "execution_count": null,
   "id": "66469a42",
   "metadata": {},
   "outputs": [],
   "source": []
  },
  {
   "cell_type": "code",
   "execution_count": null,
   "id": "ff3d0892",
   "metadata": {},
   "outputs": [],
   "source": [
    "# Save pairplot to disk as an image\n",
    "\n",
    "\n",
    "# Load saved image into the worksheet\n"
   ]
  },
  {
   "cell_type": "code",
   "execution_count": null,
   "id": "80e8e8c9",
   "metadata": {},
   "outputs": [],
   "source": []
  }
 ],
 "metadata": {
  "kernelspec": {
   "display_name": "Python 3 (ipykernel)",
   "language": "python",
   "name": "python3"
  },
  "language_info": {
   "codemirror_mode": {
    "name": "ipython",
    "version": 3
   },
   "file_extension": ".py",
   "mimetype": "text/x-python",
   "name": "python",
   "nbconvert_exporter": "python",
   "pygments_lexer": "ipython3",
   "version": "3.9.18"
  }
 },
 "nbformat": 4,
 "nbformat_minor": 5
}
