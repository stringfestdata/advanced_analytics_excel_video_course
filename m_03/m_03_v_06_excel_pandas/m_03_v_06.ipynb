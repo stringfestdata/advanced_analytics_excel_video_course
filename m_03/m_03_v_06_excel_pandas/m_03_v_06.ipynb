{
 "cells": [
  {
   "cell_type": "code",
   "execution_count": null,
   "id": "d099d8d3",
   "metadata": {},
   "outputs": [],
   "source": [
    "import pandas as pd\n",
    "import seaborn as sns"
   ]
  },
  {
   "cell_type": "code",
   "execution_count": null,
   "id": "da151515",
   "metadata": {},
   "outputs": [],
   "source": [
    "# Read in the data\n",
    "contestants = pd.read_excel('data/contestants.xlsx')\n",
    "contestants.head()"
   ]
  },
  {
   "cell_type": "code",
   "execution_count": null,
   "id": "1860ae52",
   "metadata": {},
   "outputs": [],
   "source": [
    "# Convert headers to lowercase"
   ]
  },
  {
   "cell_type": "code",
   "execution_count": null,
   "id": "b0e67f11",
   "metadata": {},
   "outputs": [],
   "source": [
    "# Define a regular expression pattern for valid email addresses"
   ]
  },
  {
   "cell_type": "code",
   "execution_count": null,
   "id": "d646bfc0",
   "metadata": {},
   "outputs": [],
   "source": []
  },
  {
   "cell_type": "code",
   "execution_count": null,
   "id": "90668485",
   "metadata": {},
   "outputs": [],
   "source": []
  },
  {
   "cell_type": "code",
   "execution_count": null,
   "id": "f3f238e4",
   "metadata": {},
   "outputs": [],
   "source": []
  },
  {
   "cell_type": "code",
   "execution_count": null,
   "id": "9d704ba8",
   "metadata": {},
   "outputs": [],
   "source": [
    "# Missing values\n"
   ]
  },
  {
   "cell_type": "code",
   "execution_count": null,
   "id": "3c9c6604",
   "metadata": {},
   "outputs": [],
   "source": []
  },
  {
   "cell_type": "code",
   "execution_count": null,
   "id": "b7150366",
   "metadata": {},
   "outputs": [],
   "source": []
  },
  {
   "cell_type": "code",
   "execution_count": null,
   "id": "12b793d0",
   "metadata": {},
   "outputs": [],
   "source": []
  },
  {
   "cell_type": "code",
   "execution_count": null,
   "id": "3976ccba",
   "metadata": {},
   "outputs": [],
   "source": []
  }
 ],
 "metadata": {
  "kernelspec": {
   "display_name": "Python 3 (ipykernel)",
   "language": "python",
   "name": "python3"
  },
  "language_info": {
   "codemirror_mode": {
    "name": "ipython",
    "version": 3
   },
   "file_extension": ".py",
   "mimetype": "text/x-python",
   "name": "python",
   "nbconvert_exporter": "python",
   "pygments_lexer": "ipython3",
   "version": "3.9.18"
  }
 },
 "nbformat": 4,
 "nbformat_minor": 5
}
