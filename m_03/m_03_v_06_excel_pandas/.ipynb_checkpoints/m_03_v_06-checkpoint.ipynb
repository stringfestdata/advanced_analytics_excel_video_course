{
 "cells": [
  {
   "cell_type": "code",
   "execution_count": 1,
   "id": "dd02a3d2",
   "metadata": {},
   "outputs": [],
   "source": [
    "import pandas as pd\n",
    "import seaborn as sns"
   ]
  },
  {
   "cell_type": "code",
   "execution_count": 2,
   "id": "397c1c86",
   "metadata": {},
   "outputs": [
    {
     "data": {
      "text/html": [
       "<div>\n",
       "<style scoped>\n",
       "    .dataframe tbody tr th:only-of-type {\n",
       "        vertical-align: middle;\n",
       "    }\n",
       "\n",
       "    .dataframe tbody tr th {\n",
       "        vertical-align: top;\n",
       "    }\n",
       "\n",
       "    .dataframe thead th {\n",
       "        text-align: right;\n",
       "    }\n",
       "</style>\n",
       "<table border=\"1\" class=\"dataframe\">\n",
       "  <thead>\n",
       "    <tr style=\"text-align: right;\">\n",
       "      <th></th>\n",
       "      <th>EMAIL</th>\n",
       "      <th>COHORT</th>\n",
       "      <th>PRE</th>\n",
       "      <th>POST</th>\n",
       "      <th>AGE</th>\n",
       "      <th>SEX</th>\n",
       "      <th>EDUCATION</th>\n",
       "      <th>SATISFACTION</th>\n",
       "      <th>STUDY_HOURS</th>\n",
       "    </tr>\n",
       "  </thead>\n",
       "  <tbody>\n",
       "    <tr>\n",
       "      <th>0</th>\n",
       "      <td>smehaffey0@creativecommons.org</td>\n",
       "      <td>4</td>\n",
       "      <td>485</td>\n",
       "      <td>494</td>\n",
       "      <td>32.0</td>\n",
       "      <td>Male</td>\n",
       "      <td>Bachelor's</td>\n",
       "      <td>2</td>\n",
       "      <td>36.6</td>\n",
       "    </tr>\n",
       "    <tr>\n",
       "      <th>1</th>\n",
       "      <td>dbateman1@hao12@.com</td>\n",
       "      <td>4</td>\n",
       "      <td>462</td>\n",
       "      <td>458</td>\n",
       "      <td>33.0</td>\n",
       "      <td>Female</td>\n",
       "      <td>Bachelor's</td>\n",
       "      <td>8</td>\n",
       "      <td>22.4</td>\n",
       "    </tr>\n",
       "    <tr>\n",
       "      <th>2</th>\n",
       "      <td>bbenham2@xrea.com</td>\n",
       "      <td>3</td>\n",
       "      <td>477</td>\n",
       "      <td>483</td>\n",
       "      <td>NaN</td>\n",
       "      <td>Female</td>\n",
       "      <td>Bachelor's</td>\n",
       "      <td>1</td>\n",
       "      <td>19.8</td>\n",
       "    </tr>\n",
       "    <tr>\n",
       "      <th>3</th>\n",
       "      <td>mwison@@g.co</td>\n",
       "      <td>2</td>\n",
       "      <td>480</td>\n",
       "      <td>488</td>\n",
       "      <td>31.0</td>\n",
       "      <td>Female</td>\n",
       "      <td>Bachelor's</td>\n",
       "      <td>10</td>\n",
       "      <td>33.1</td>\n",
       "    </tr>\n",
       "    <tr>\n",
       "      <th>4</th>\n",
       "      <td>jagostini4@wordpress.org</td>\n",
       "      <td>1</td>\n",
       "      <td>495</td>\n",
       "      <td>494</td>\n",
       "      <td>38.0</td>\n",
       "      <td>Female</td>\n",
       "      <td>NaN</td>\n",
       "      <td>9</td>\n",
       "      <td>32.5</td>\n",
       "    </tr>\n",
       "  </tbody>\n",
       "</table>\n",
       "</div>"
      ],
      "text/plain": [
       "                            EMAIL  COHORT  PRE  POST   AGE     SEX  \\\n",
       "0  smehaffey0@creativecommons.org       4  485   494  32.0    Male   \n",
       "1            dbateman1@hao12@.com       4  462   458  33.0  Female   \n",
       "2               bbenham2@xrea.com       3  477   483   NaN  Female   \n",
       "3                    mwison@@g.co       2  480   488  31.0  Female   \n",
       "4        jagostini4@wordpress.org       1  495   494  38.0  Female   \n",
       "\n",
       "    EDUCATION  SATISFACTION  STUDY_HOURS  \n",
       "0  Bachelor's             2         36.6  \n",
       "1  Bachelor's             8         22.4  \n",
       "2  Bachelor's             1         19.8  \n",
       "3  Bachelor's            10         33.1  \n",
       "4         NaN             9         32.5  "
      ]
     },
     "execution_count": 2,
     "metadata": {},
     "output_type": "execute_result"
    }
   ],
   "source": [
    "# Read in the data \n",
    "contestants = pd.read_excel('data/contestants.xlsx')\n",
    "contestants.head()"
   ]
  },
  {
   "cell_type": "code",
   "execution_count": 3,
   "id": "e1270a42",
   "metadata": {},
   "outputs": [
    {
     "data": {
      "text/html": [
       "<div>\n",
       "<style scoped>\n",
       "    .dataframe tbody tr th:only-of-type {\n",
       "        vertical-align: middle;\n",
       "    }\n",
       "\n",
       "    .dataframe tbody tr th {\n",
       "        vertical-align: top;\n",
       "    }\n",
       "\n",
       "    .dataframe thead th {\n",
       "        text-align: right;\n",
       "    }\n",
       "</style>\n",
       "<table border=\"1\" class=\"dataframe\">\n",
       "  <thead>\n",
       "    <tr style=\"text-align: right;\">\n",
       "      <th></th>\n",
       "      <th>email</th>\n",
       "      <th>cohort</th>\n",
       "      <th>pre</th>\n",
       "      <th>post</th>\n",
       "      <th>age</th>\n",
       "      <th>sex</th>\n",
       "      <th>education</th>\n",
       "      <th>satisfaction</th>\n",
       "      <th>study_hours</th>\n",
       "    </tr>\n",
       "  </thead>\n",
       "  <tbody>\n",
       "    <tr>\n",
       "      <th>0</th>\n",
       "      <td>smehaffey0@creativecommons.org</td>\n",
       "      <td>4</td>\n",
       "      <td>485</td>\n",
       "      <td>494</td>\n",
       "      <td>32.0</td>\n",
       "      <td>Male</td>\n",
       "      <td>Bachelor's</td>\n",
       "      <td>2</td>\n",
       "      <td>36.6</td>\n",
       "    </tr>\n",
       "    <tr>\n",
       "      <th>1</th>\n",
       "      <td>dbateman1@hao12@.com</td>\n",
       "      <td>4</td>\n",
       "      <td>462</td>\n",
       "      <td>458</td>\n",
       "      <td>33.0</td>\n",
       "      <td>Female</td>\n",
       "      <td>Bachelor's</td>\n",
       "      <td>8</td>\n",
       "      <td>22.4</td>\n",
       "    </tr>\n",
       "    <tr>\n",
       "      <th>2</th>\n",
       "      <td>bbenham2@xrea.com</td>\n",
       "      <td>3</td>\n",
       "      <td>477</td>\n",
       "      <td>483</td>\n",
       "      <td>NaN</td>\n",
       "      <td>Female</td>\n",
       "      <td>Bachelor's</td>\n",
       "      <td>1</td>\n",
       "      <td>19.8</td>\n",
       "    </tr>\n",
       "    <tr>\n",
       "      <th>3</th>\n",
       "      <td>mwison@@g.co</td>\n",
       "      <td>2</td>\n",
       "      <td>480</td>\n",
       "      <td>488</td>\n",
       "      <td>31.0</td>\n",
       "      <td>Female</td>\n",
       "      <td>Bachelor's</td>\n",
       "      <td>10</td>\n",
       "      <td>33.1</td>\n",
       "    </tr>\n",
       "    <tr>\n",
       "      <th>4</th>\n",
       "      <td>jagostini4@wordpress.org</td>\n",
       "      <td>1</td>\n",
       "      <td>495</td>\n",
       "      <td>494</td>\n",
       "      <td>38.0</td>\n",
       "      <td>Female</td>\n",
       "      <td>NaN</td>\n",
       "      <td>9</td>\n",
       "      <td>32.5</td>\n",
       "    </tr>\n",
       "  </tbody>\n",
       "</table>\n",
       "</div>"
      ],
      "text/plain": [
       "                            email  cohort  pre  post   age     sex  \\\n",
       "0  smehaffey0@creativecommons.org       4  485   494  32.0    Male   \n",
       "1            dbateman1@hao12@.com       4  462   458  33.0  Female   \n",
       "2               bbenham2@xrea.com       3  477   483   NaN  Female   \n",
       "3                    mwison@@g.co       2  480   488  31.0  Female   \n",
       "4        jagostini4@wordpress.org       1  495   494  38.0  Female   \n",
       "\n",
       "    education  satisfaction  study_hours  \n",
       "0  Bachelor's             2         36.6  \n",
       "1  Bachelor's             8         22.4  \n",
       "2  Bachelor's             1         19.8  \n",
       "3  Bachelor's            10         33.1  \n",
       "4         NaN             9         32.5  "
      ]
     },
     "execution_count": 3,
     "metadata": {},
     "output_type": "execute_result"
    }
   ],
   "source": [
    "# Convert headers to all lowercase\n",
    "contestants.columns = contestants.columns.str.lower()\n",
    "contestants.head()"
   ]
  },
  {
   "cell_type": "code",
   "execution_count": 4,
   "id": "b657cdc5",
   "metadata": {},
   "outputs": [],
   "source": [
    "\n",
    "# Define a regular expression pattern for valid email addresses\n",
    "email_pattern = r'^[a-z0-9]+[\\._]?[a-z0-9]+[@]\\w+[.]\\w{2,3}$'  "
   ]
  },
  {
   "cell_type": "code",
   "execution_count": 5,
   "id": "805d1800",
   "metadata": {},
   "outputs": [],
   "source": [
    "full_emails = contestants[contestants['email'].str.contains(email_pattern)]"
   ]
  },
  {
   "cell_type": "code",
   "execution_count": 6,
   "id": "587ddd56",
   "metadata": {},
   "outputs": [
    {
     "data": {
      "text/plain": [
       "(100, 9)"
      ]
     },
     "execution_count": 6,
     "metadata": {},
     "output_type": "execute_result"
    }
   ],
   "source": [
    "# Dimensions of original DataFrame\n",
    "contestants.shape"
   ]
  },
  {
   "cell_type": "code",
   "execution_count": 7,
   "id": "17eb3a55",
   "metadata": {},
   "outputs": [
    {
     "data": {
      "text/plain": [
       "(82, 9)"
      ]
     },
     "execution_count": 7,
     "metadata": {},
     "output_type": "execute_result"
    }
   ],
   "source": [
    "\n",
    "# Dimensions of DataFrame with valid emails\n",
    "full_emails.shape"
   ]
  },
  {
   "cell_type": "code",
   "execution_count": 8,
   "id": "23b39185",
   "metadata": {},
   "outputs": [
    {
     "data": {
      "text/plain": [
       "age             0.012195\n",
       "education       0.012195\n",
       "email           0.000000\n",
       "cohort          0.000000\n",
       "pre             0.000000\n",
       "post            0.000000\n",
       "sex             0.000000\n",
       "satisfaction    0.000000\n",
       "study_hours     0.000000\n",
       "dtype: float64"
      ]
     },
     "execution_count": 8,
     "metadata": {},
     "output_type": "execute_result"
    }
   ],
   "source": [
    "# Missing values\n",
    "full_emails.isnull().mean().sort_values(ascending=False)"
   ]
  },
  {
   "cell_type": "code",
   "execution_count": 9,
   "id": "5c6fc5fc",
   "metadata": {},
   "outputs": [],
   "source": [
    "complete_cases = full_emails.dropna()"
   ]
  },
  {
   "cell_type": "code",
   "execution_count": 10,
   "id": "cd39a36a",
   "metadata": {},
   "outputs": [
    {
     "name": "stdout",
     "output_type": "stream",
     "text": [
      "<class 'pandas.core.frame.DataFrame'>\n",
      "Index: 80 entries, 0 to 99\n",
      "Data columns (total 9 columns):\n",
      " #   Column        Non-Null Count  Dtype  \n",
      "---  ------        --------------  -----  \n",
      " 0   email         80 non-null     object \n",
      " 1   cohort        80 non-null     int64  \n",
      " 2   pre           80 non-null     int64  \n",
      " 3   post          80 non-null     int64  \n",
      " 4   age           80 non-null     float64\n",
      " 5   sex           80 non-null     object \n",
      " 6   education     80 non-null     object \n",
      " 7   satisfaction  80 non-null     int64  \n",
      " 8   study_hours   80 non-null     float64\n",
      "dtypes: float64(2), int64(4), object(3)\n",
      "memory usage: 6.2+ KB\n"
     ]
    }
   ],
   "source": [
    "complete_cases.info()"
   ]
  },
  {
   "cell_type": "code",
   "execution_count": 11,
   "id": "8064434d",
   "metadata": {},
   "outputs": [],
   "source": [
    "complete_cases.to_excel('output/complete_cases.xlsx')"
   ]
  }
 ],
 "metadata": {
  "kernelspec": {
   "display_name": "Python 3 (ipykernel)",
   "language": "python",
   "name": "python3"
  },
  "language_info": {
   "codemirror_mode": {
    "name": "ipython",
    "version": 3
   },
   "file_extension": ".py",
   "mimetype": "text/x-python",
   "name": "python",
   "nbconvert_exporter": "python",
   "pygments_lexer": "ipython3",
   "version": "3.9.18"
  }
 },
 "nbformat": 4,
 "nbformat_minor": 5
}
