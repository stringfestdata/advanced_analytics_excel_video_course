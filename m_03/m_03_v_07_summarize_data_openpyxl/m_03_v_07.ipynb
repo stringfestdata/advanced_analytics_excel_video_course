{
 "cells": [
  {
   "cell_type": "code",
   "execution_count": 1,
   "id": "12bd15be",
   "metadata": {},
   "outputs": [],
   "source": [
    "import pandas as pd\n",
    "from openpyxl import Workbook\n",
    "from openpyxl.utils.dataframe import dataframe_to_rows\n",
    "from openpyxl.utils import get_column_letter\n",
    "from openpyxl.worksheet.table import Table, TableStyleInfo\n",
    "from openpyxl.styles import PatternFill"
   ]
  },
  {
   "cell_type": "code",
   "execution_count": 2,
   "id": "8bdc0e13",
   "metadata": {},
   "outputs": [],
   "source": [
    "# Read in the data \n",
    "complete_cases = pd.read_excel('data/complete_cases.xlsx')"
   ]
  },
  {
   "cell_type": "code",
   "execution_count": 3,
   "id": "bb55eb6d",
   "metadata": {},
   "outputs": [
    {
     "data": {
      "text/plain": [
       "count    80.000000\n",
       "mean      0.506250\n",
       "std       0.290375\n",
       "min       0.012500\n",
       "25%       0.264062\n",
       "50%       0.506250\n",
       "75%       0.756250\n",
       "max       1.000000\n",
       "Name: post_pct, dtype: float64"
      ]
     },
     "execution_count": 3,
     "metadata": {},
     "output_type": "execute_result"
    }
   ],
   "source": [
    "complete_cases['post_pct'] = complete_cases['post'].rank(pct=True)\n",
    "complete_cases['post_pct'].describe()"
   ]
  },
  {
   "cell_type": "code",
   "execution_count": 4,
   "id": "3e1afd87",
   "metadata": {},
   "outputs": [
    {
     "data": {
      "text/html": [
       "<div>\n",
       "<style scoped>\n",
       "    .dataframe tbody tr th:only-of-type {\n",
       "        vertical-align: middle;\n",
       "    }\n",
       "\n",
       "    .dataframe tbody tr th {\n",
       "        vertical-align: top;\n",
       "    }\n",
       "\n",
       "    .dataframe thead th {\n",
       "        text-align: right;\n",
       "    }\n",
       "</style>\n",
       "<table border=\"1\" class=\"dataframe\">\n",
       "  <thead>\n",
       "    <tr style=\"text-align: right;\">\n",
       "      <th></th>\n",
       "      <th>email</th>\n",
       "      <th>cohort</th>\n",
       "      <th>pre</th>\n",
       "      <th>post</th>\n",
       "      <th>age</th>\n",
       "      <th>sex</th>\n",
       "      <th>education</th>\n",
       "      <th>satisfaction</th>\n",
       "      <th>study_hours</th>\n",
       "      <th>post_pct</th>\n",
       "    </tr>\n",
       "  </thead>\n",
       "  <tbody>\n",
       "    <tr>\n",
       "      <th>0</th>\n",
       "      <td>smehaffey0@creativecommons.org</td>\n",
       "      <td>4</td>\n",
       "      <td>485</td>\n",
       "      <td>494</td>\n",
       "      <td>32</td>\n",
       "      <td>Male</td>\n",
       "      <td>Bachelor's</td>\n",
       "      <td>2</td>\n",
       "      <td>36.6</td>\n",
       "      <td>0.67500</td>\n",
       "    </tr>\n",
       "    <tr>\n",
       "      <th>1</th>\n",
       "      <td>kbridgnell5@webnode.com</td>\n",
       "      <td>1</td>\n",
       "      <td>484</td>\n",
       "      <td>503</td>\n",
       "      <td>32</td>\n",
       "      <td>Female</td>\n",
       "      <td>Bachelor's</td>\n",
       "      <td>6</td>\n",
       "      <td>32.2</td>\n",
       "      <td>0.88125</td>\n",
       "    </tr>\n",
       "    <tr>\n",
       "      <th>2</th>\n",
       "      <td>abotham6@usda.gov</td>\n",
       "      <td>1</td>\n",
       "      <td>497</td>\n",
       "      <td>501</td>\n",
       "      <td>30</td>\n",
       "      <td>Female</td>\n",
       "      <td>Bachelor's</td>\n",
       "      <td>10</td>\n",
       "      <td>32.3</td>\n",
       "      <td>0.82500</td>\n",
       "    </tr>\n",
       "    <tr>\n",
       "      <th>3</th>\n",
       "      <td>szeal7@pinterest.com</td>\n",
       "      <td>2</td>\n",
       "      <td>451</td>\n",
       "      <td>457</td>\n",
       "      <td>32</td>\n",
       "      <td>Male</td>\n",
       "      <td>Bachelor's</td>\n",
       "      <td>4</td>\n",
       "      <td>26.2</td>\n",
       "      <td>0.12500</td>\n",
       "    </tr>\n",
       "    <tr>\n",
       "      <th>4</th>\n",
       "      <td>ikidby8@who.int</td>\n",
       "      <td>4</td>\n",
       "      <td>452</td>\n",
       "      <td>448</td>\n",
       "      <td>29</td>\n",
       "      <td>Female</td>\n",
       "      <td>Bachelor's</td>\n",
       "      <td>9</td>\n",
       "      <td>27.9</td>\n",
       "      <td>0.08750</td>\n",
       "    </tr>\n",
       "  </tbody>\n",
       "</table>\n",
       "</div>"
      ],
      "text/plain": [
       "                            email  cohort  pre  post  age     sex   education  \\\n",
       "0  smehaffey0@creativecommons.org       4  485   494   32    Male  Bachelor's   \n",
       "1         kbridgnell5@webnode.com       1  484   503   32  Female  Bachelor's   \n",
       "2               abotham6@usda.gov       1  497   501   30  Female  Bachelor's   \n",
       "3            szeal7@pinterest.com       2  451   457   32    Male  Bachelor's   \n",
       "4                 ikidby8@who.int       4  452   448   29  Female  Bachelor's   \n",
       "\n",
       "   satisfaction  study_hours  post_pct  \n",
       "0             2         36.6   0.67500  \n",
       "1             6         32.2   0.88125  \n",
       "2            10         32.3   0.82500  \n",
       "3             4         26.2   0.12500  \n",
       "4             9         27.9   0.08750  "
      ]
     },
     "execution_count": 4,
     "metadata": {},
     "output_type": "execute_result"
    }
   ],
   "source": [
    "complete_cases.head()"
   ]
  },
  {
   "cell_type": "code",
   "execution_count": 5,
   "id": "f4d03b07",
   "metadata": {},
   "outputs": [],
   "source": [
    "# Create a new workbook and select the worksheet\n",
    "wb = Workbook()\n",
    "\n",
    "# Assign the active worksheet to ws\n",
    "ws = wb.active"
   ]
  },
  {
   "cell_type": "code",
   "execution_count": 6,
   "id": "999bb83c",
   "metadata": {},
   "outputs": [],
   "source": [
    "ws['A1'] = \"Average pre score\"\n",
    "ws['B1'] = round(complete_cases['pre'].mean(), 2)  # Round output to two decimals\n",
    "\n",
    "ws['A2'] = \"Average post score\"\n",
    "ws['B2'] = round(complete_cases['post'].mean(), 2)"
   ]
  },
  {
   "cell_type": "code",
   "execution_count": 7,
   "id": "37f260f5",
   "metadata": {},
   "outputs": [],
   "source": [
    "ws.column_dimensions['A'].width = 16"
   ]
  },
  {
   "cell_type": "code",
   "execution_count": 8,
   "id": "67fa7660",
   "metadata": {},
   "outputs": [],
   "source": [
    "ws2 = wb.create_sheet(title='data')"
   ]
  },
  {
   "cell_type": "code",
   "execution_count": 9,
   "id": "15642722",
   "metadata": {},
   "outputs": [],
   "source": [
    "for row in dataframe_to_rows(complete_cases, index=False, header=True):\n",
    "    ws2.append(row)"
   ]
  },
  {
   "cell_type": "code",
   "execution_count": 10,
   "id": "c0321906",
   "metadata": {},
   "outputs": [
    {
     "data": {
      "text/plain": [
       "'J'"
      ]
     },
     "execution_count": 10,
     "metadata": {},
     "output_type": "execute_result"
    }
   ],
   "source": [
    "post_pct_loc = complete_cases.columns.get_loc('post_pct') + 1\n",
    "post_pct_col = get_column_letter(post_pct_loc) \n",
    "post_pct_col"
   ]
  },
  {
   "cell_type": "code",
   "execution_count": 11,
   "id": "f1246bec",
   "metadata": {},
   "outputs": [],
   "source": [
    "number_format = '0.0%'\n",
    "\n",
    "for cell in ws2[post_pct_col]:\n",
    "    cell.number_format = number_format"
   ]
  },
  {
   "cell_type": "code",
   "execution_count": 12,
   "id": "1fb0cb87",
   "metadata": {},
   "outputs": [],
   "source": [
    "# Specify desired table formatting\n",
    "style = TableStyleInfo(name='TableStyleMedium9', showRowStripes=True)\n",
    "\n",
    "# Name and identify range of table\n",
    "table = Table(displayName='contestants', \n",
    "              ref='A1:' + get_column_letter(ws2.max_column) + str(ws2.max_row))\n",
    "              \n",
    "# Apply styling and insert in worksheet \n",
    "table.tableStyleInfo = style\n",
    "ws2.add_table(table)"
   ]
  },
  {
   "cell_type": "code",
   "execution_count": 13,
   "id": "c5e8d248",
   "metadata": {},
   "outputs": [],
   "source": [
    "# Define conditional formatting style\n",
    "green_fill = PatternFill(start_color=\"B9E8A2\", end_color=\"B9E8A2\", fill_type=\"solid\")\n",
    "yellow_fill = PatternFill(start_color=\"FFF9D4\", end_color=\"FFF9D4\", fill_type=\"solid\")\n",
    "\n",
    "# Loop through data table and conditonally apply formatting\n",
    "for row in ws2.iter_rows(min_row=2, min_col=1, max_col=len(complete_cases.columns)):\n",
    "    post_pct = row[post_pct_loc - 1].value # Convert index to 0-based indexing\n",
    "    if post_pct > .9:\n",
    "        for cell in row:\n",
    "            cell.fill = green_fill\n",
    "    elif post_pct > .7:\n",
    "        for cell in row:\n",
    "            cell.fill = yellow_fill"
   ]
  },
  {
   "cell_type": "code",
   "execution_count": 14,
   "id": "88e47a89",
   "metadata": {},
   "outputs": [],
   "source": [
    "for column in ws2.columns:\n",
    "    max_length = 0\n",
    "    column_letter = column[0].column_letter\n",
    "    for cell in column:\n",
    "        try:\n",
    "            if len(str(cell.value)) > max_length:\n",
    "                max_length = len(cell.value)\n",
    "        except:\n",
    "            pass\n",
    "    adjusted_width = (max_length + 2) * 1.2\n",
    "    ws2.column_dimensions[column_letter].width = adjusted_width"
   ]
  },
  {
   "cell_type": "code",
   "execution_count": 15,
   "id": "c8833164",
   "metadata": {},
   "outputs": [],
   "source": [
    "wb.save('output/m_03_v_07_output.xlsx')"
   ]
  },
  {
   "cell_type": "code",
   "execution_count": null,
   "id": "2d6c5a7a",
   "metadata": {},
   "outputs": [],
   "source": []
  }
 ],
 "metadata": {
  "kernelspec": {
   "display_name": "Python 3 (ipykernel)",
   "language": "python",
   "name": "python3"
  },
  "language_info": {
   "codemirror_mode": {
    "name": "ipython",
    "version": 3
   },
   "file_extension": ".py",
   "mimetype": "text/x-python",
   "name": "python",
   "nbconvert_exporter": "python",
   "pygments_lexer": "ipython3",
   "version": "3.9.18"
  }
 },
 "nbformat": 4,
 "nbformat_minor": 5
}
