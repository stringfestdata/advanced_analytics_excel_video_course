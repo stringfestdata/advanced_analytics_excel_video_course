{
 "cells": [
  {
   "cell_type": "code",
   "execution_count": 1,
   "id": "e3f8c06d",
   "metadata": {},
   "outputs": [],
   "source": [
    "import pandas as pd\n",
    "import seaborn as sns\n",
    "from openpyxl import Workbook\n",
    "from openpyxl.chart import BarChart, Reference\n",
    "from openpyxl.drawing.image import Image\n",
    "from openpyxl.utils.dataframe import dataframe_to_rows\n",
    "from openpyxl.utils import get_column_letter\n",
    "from openpyxl.utils.dataframe import dataframe_to_rows\n",
    "from openpyxl.worksheet.table import Table, TableStyleInfo\n",
    "from openpyxl.styles import PatternFill"
   ]
  },
  {
   "cell_type": "code",
   "execution_count": 2,
   "id": "0f2ac185",
   "metadata": {},
   "outputs": [
    {
     "data": {
      "text/html": [
       "<div>\n",
       "<style scoped>\n",
       "    .dataframe tbody tr th:only-of-type {\n",
       "        vertical-align: middle;\n",
       "    }\n",
       "\n",
       "    .dataframe tbody tr th {\n",
       "        vertical-align: top;\n",
       "    }\n",
       "\n",
       "    .dataframe thead th {\n",
       "        text-align: right;\n",
       "    }\n",
       "</style>\n",
       "<table border=\"1\" class=\"dataframe\">\n",
       "  <thead>\n",
       "    <tr style=\"text-align: right;\">\n",
       "      <th></th>\n",
       "      <th>Unnamed: 0</th>\n",
       "      <th>email</th>\n",
       "      <th>cohort</th>\n",
       "      <th>pre</th>\n",
       "      <th>post</th>\n",
       "      <th>age</th>\n",
       "      <th>sex</th>\n",
       "      <th>education</th>\n",
       "      <th>satisfaction</th>\n",
       "      <th>study_hours</th>\n",
       "      <th>post_pct</th>\n",
       "    </tr>\n",
       "  </thead>\n",
       "  <tbody>\n",
       "    <tr>\n",
       "      <th>0</th>\n",
       "      <td>0</td>\n",
       "      <td>smehaffey0@creativecommons.org</td>\n",
       "      <td>4</td>\n",
       "      <td>485</td>\n",
       "      <td>494</td>\n",
       "      <td>32</td>\n",
       "      <td>Male</td>\n",
       "      <td>Bachelor's</td>\n",
       "      <td>2</td>\n",
       "      <td>36.6</td>\n",
       "      <td>0.67500</td>\n",
       "    </tr>\n",
       "    <tr>\n",
       "      <th>1</th>\n",
       "      <td>5</td>\n",
       "      <td>kbridgnell5@webnode.com</td>\n",
       "      <td>1</td>\n",
       "      <td>484</td>\n",
       "      <td>503</td>\n",
       "      <td>32</td>\n",
       "      <td>Female</td>\n",
       "      <td>Bachelor's</td>\n",
       "      <td>6</td>\n",
       "      <td>32.2</td>\n",
       "      <td>0.88125</td>\n",
       "    </tr>\n",
       "    <tr>\n",
       "      <th>2</th>\n",
       "      <td>6</td>\n",
       "      <td>abotham6@usda.gov</td>\n",
       "      <td>1</td>\n",
       "      <td>497</td>\n",
       "      <td>501</td>\n",
       "      <td>30</td>\n",
       "      <td>Female</td>\n",
       "      <td>Bachelor's</td>\n",
       "      <td>10</td>\n",
       "      <td>32.3</td>\n",
       "      <td>0.82500</td>\n",
       "    </tr>\n",
       "    <tr>\n",
       "      <th>3</th>\n",
       "      <td>7</td>\n",
       "      <td>szeal7@pinterest.com</td>\n",
       "      <td>2</td>\n",
       "      <td>451</td>\n",
       "      <td>457</td>\n",
       "      <td>32</td>\n",
       "      <td>Male</td>\n",
       "      <td>Bachelor's</td>\n",
       "      <td>4</td>\n",
       "      <td>26.2</td>\n",
       "      <td>0.12500</td>\n",
       "    </tr>\n",
       "    <tr>\n",
       "      <th>4</th>\n",
       "      <td>8</td>\n",
       "      <td>ikidby8@who.int</td>\n",
       "      <td>4</td>\n",
       "      <td>452</td>\n",
       "      <td>448</td>\n",
       "      <td>29</td>\n",
       "      <td>Female</td>\n",
       "      <td>Bachelor's</td>\n",
       "      <td>9</td>\n",
       "      <td>27.9</td>\n",
       "      <td>0.08750</td>\n",
       "    </tr>\n",
       "  </tbody>\n",
       "</table>\n",
       "</div>"
      ],
      "text/plain": [
       "   Unnamed: 0                           email  cohort  pre  post  age     sex  \\\n",
       "0           0  smehaffey0@creativecommons.org       4  485   494   32    Male   \n",
       "1           5         kbridgnell5@webnode.com       1  484   503   32  Female   \n",
       "2           6               abotham6@usda.gov       1  497   501   30  Female   \n",
       "3           7            szeal7@pinterest.com       2  451   457   32    Male   \n",
       "4           8                 ikidby8@who.int       4  452   448   29  Female   \n",
       "\n",
       "    education  satisfaction  study_hours  post_pct  \n",
       "0  Bachelor's             2         36.6   0.67500  \n",
       "1  Bachelor's             6         32.2   0.88125  \n",
       "2  Bachelor's            10         32.3   0.82500  \n",
       "3  Bachelor's             4         26.2   0.12500  \n",
       "4  Bachelor's             9         27.9   0.08750  "
      ]
     },
     "execution_count": 2,
     "metadata": {},
     "output_type": "execute_result"
    }
   ],
   "source": [
    "# Read in the data \n",
    "complete_cases = pd.read_excel('data/complete_cases.xlsx')\n",
    "complete_cases.head()"
   ]
  },
  {
   "cell_type": "code",
   "execution_count": 3,
   "id": "0fd3ad78",
   "metadata": {},
   "outputs": [],
   "source": [
    "# Create a new workbook and select the worksheet\n",
    "wb = Workbook()\n",
    "\n",
    "# Assign the active worksheet to ws\n",
    "ws = wb.active"
   ]
  },
  {
   "cell_type": "code",
   "execution_count": 4,
   "id": "edd76bd6",
   "metadata": {},
   "outputs": [],
   "source": [
    "ws['A1'] = \"Average pre score\"\n",
    "ws['B1'] = round(complete_cases['pre'].mean(), 2)  # Round output to two decimals\n",
    "\n",
    "ws['A2'] = \"Average post score\"\n",
    "ws['B2'] = round(complete_cases['post'].mean(), 2)"
   ]
  },
  {
   "cell_type": "code",
   "execution_count": 5,
   "id": "94deab69",
   "metadata": {},
   "outputs": [],
   "source": [
    "ws.column_dimensions['A'].width = 16"
   ]
  },
  {
   "cell_type": "code",
   "execution_count": 6,
   "id": "ae885956",
   "metadata": {},
   "outputs": [],
   "source": [
    "ws2 = wb.create_sheet(title='data')"
   ]
  },
  {
   "cell_type": "code",
   "execution_count": 7,
   "id": "22efd004",
   "metadata": {},
   "outputs": [],
   "source": [
    "for row in dataframe_to_rows(complete_cases, index=False, header=True):\n",
    "    ws2.append(row)"
   ]
  },
  {
   "cell_type": "code",
   "execution_count": 8,
   "id": "af521e72",
   "metadata": {},
   "outputs": [
    {
     "data": {
      "text/plain": [
       "'K'"
      ]
     },
     "execution_count": 8,
     "metadata": {},
     "output_type": "execute_result"
    }
   ],
   "source": [
    "post_pct_loc = complete_cases.columns.get_loc('post_pct') + 1\n",
    "post_pct_col = get_column_letter(post_pct_loc) \n",
    "post_pct_col"
   ]
  },
  {
   "cell_type": "code",
   "execution_count": 9,
   "id": "1d41fe5d",
   "metadata": {},
   "outputs": [],
   "source": [
    "number_format = '0.0%'\n",
    "\n",
    "for cell in ws2[post_pct_col]:\n",
    "    cell.number_format = number_format"
   ]
  },
  {
   "cell_type": "code",
   "execution_count": 10,
   "id": "7d547f5a",
   "metadata": {},
   "outputs": [],
   "source": [
    "# Specify desired table formatting\n",
    "style = TableStyleInfo(name='TableStyleMedium9', showRowStripes=True)\n",
    "\n",
    "# Name and identify range of table\n",
    "table = Table(displayName='contestants', \n",
    "              ref='A1:' + get_column_letter(ws2.max_column) + str(ws2.max_row))\n",
    "              \n",
    "# Apply styling and insert in worksheet \n",
    "table.tableStyleInfo = style\n",
    "ws2.add_table(table)"
   ]
  },
  {
   "cell_type": "code",
   "execution_count": 11,
   "id": "16818a95",
   "metadata": {},
   "outputs": [],
   "source": [
    "wb.save('output/complete_cases_summarize.xlsx')\n",
    "wb.close()"
   ]
  }
 ],
 "metadata": {
  "kernelspec": {
   "display_name": "Python 3 (ipykernel)",
   "language": "python",
   "name": "python3"
  },
  "language_info": {
   "codemirror_mode": {
    "name": "ipython",
    "version": 3
   },
   "file_extension": ".py",
   "mimetype": "text/x-python",
   "name": "python",
   "nbconvert_exporter": "python",
   "pygments_lexer": "ipython3",
   "version": "3.9.16"
  }
 },
 "nbformat": 4,
 "nbformat_minor": 5
}
