{
 "cells": [
  {
   "cell_type": "code",
   "execution_count": 1,
   "id": "e3f8c06d",
   "metadata": {},
   "outputs": [],
   "source": [
    "import pandas as pd\n",
    "import seaborn as sns\n",
    "from openpyxl import Workbook\n",
    "from openpyxl.chart import BarChart, Reference\n",
    "from openpyxl.drawing.image import Image\n",
    "from openpyxl.utils.dataframe import dataframe_to_rows\n",
    "from openpyxl.utils import get_column_letter\n",
    "from openpyxl.utils.dataframe import dataframe_to_rows\n",
    "from openpyxl.worksheet.table import Table, TableStyleInfo\n",
    "from openpyxl.styles import PatternFill"
   ]
  },
  {
   "cell_type": "code",
   "execution_count": 2,
   "id": "0f2ac185",
   "metadata": {},
   "outputs": [],
   "source": [
    "# Read in the data \n",
    "complete_cases = pd.read_excel('data/complete_cases.xlsx')\n",
    "complete_cases.head()"
   ]
  },
  {
   "cell_type": "code",
   "execution_count": 15,
   "id": "0fd3ad78",
   "metadata": {},
   "outputs": [],
   "source": [
    "# Create a new workbook and select the worksheet\n",
    "wb = Workbook()\n",
    "\n",
    "# Assign the active worksheet to ws\n",
    "ws = wb.active"
   ]
  },
  {
   "cell_type": "code",
   "execution_count": 16,
   "id": "edd76bd6",
   "metadata": {},
   "outputs": [],
   "source": [
    "ws['A1'] = \"Average pre score\"\n",
    "ws['B1'] = round(complete_cases['pre'].mean(), 2)  # Round output to two decimals\n",
    "\n",
    "ws['A2'] = \"Average post score\"\n",
    "ws['B2'] = round(complete_cases['post'].mean(), 2)"
   ]
  },
  {
   "cell_type": "code",
   "execution_count": 17,
   "id": "94deab69",
   "metadata": {},
   "outputs": [],
   "source": [
    "ws.column_dimensions['A'].width = 16"
   ]
  },
  {
   "cell_type": "code",
   "execution_count": 25,
   "id": "ae885956",
   "metadata": {},
   "outputs": [],
   "source": [
    "ws2 = wb.create_sheet(title='data')"
   ]
  },
  {
   "cell_type": "code",
   "execution_count": 26,
   "id": "22efd004",
   "metadata": {},
   "outputs": [],
   "source": [
    "for row in dataframe_to_rows(complete_cases, index=False, header=True):\n",
    "    ws2.append(row)"
   ]
  },
  {
   "cell_type": "code",
   "execution_count": 27,
   "id": "af521e72",
   "metadata": {},
   "outputs": [
    {
     "data": {
      "text/plain": [
       "'J'"
      ]
     },
     "execution_count": 27,
     "metadata": {},
     "output_type": "execute_result"
    }
   ],
   "source": [
    "post_pct_loc = complete_cases.columns.get_loc('post_pct') + 1\n",
    "post_pct_col = get_column_letter(post_pct_loc) \n",
    "post_pct_col"
   ]
  },
  {
   "cell_type": "code",
   "execution_count": 28,
   "id": "1d41fe5d",
   "metadata": {},
   "outputs": [],
   "source": [
    "number_format = '0.0%'\n",
    "\n",
    "for cell in ws2[post_pct_col]:\n",
    "    cell.number_format = number_format"
   ]
  },
  {
   "cell_type": "code",
   "execution_count": 29,
   "id": "7d547f5a",
   "metadata": {},
   "outputs": [],
   "source": [
    "# Specify desired table formatting\n",
    "style = TableStyleInfo(name='TableStyleMedium9', showRowStripes=True)\n",
    "\n",
    "# Name and identify range of table\n",
    "table = Table(displayName='contestants', \n",
    "              ref='A1:' + get_column_letter(ws2.max_column) + str(ws2.max_row))\n",
    "              \n",
    "# Apply styling and insert in worksheet \n",
    "table.tableStyleInfo = style\n",
    "ws2.add_table(table)"
   ]
  },
  {
   "cell_type": "code",
   "execution_count": 31,
   "id": "cf39e20e",
   "metadata": {},
   "outputs": [],
   "source": [
    "for column in ws2.columns:\n",
    "    max_length = 0\n",
    "    column_letter = column[0].column_letter\n",
    "    for cell in column:\n",
    "        try:\n",
    "            if len(str(cell.value)) > max_length:\n",
    "                max_length = len(cell.value)\n",
    "        except:\n",
    "            pass\n",
    "    adjusted_width = (max_length + 2) * 1.2\n",
    "    ws2.column_dimensions[column_letter].width = adjusted_width"
   ]
  },
  {
   "cell_type": "code",
   "execution_count": 32,
   "id": "16818a95",
   "metadata": {},
   "outputs": [],
   "source": [
    "wb.save('output/ch_12_output.xlsx')"
   ]
  }
 ],
 "metadata": {
  "kernelspec": {
   "display_name": "Python 3 (ipykernel)",
   "language": "python",
   "name": "python3"
  },
  "language_info": {
   "codemirror_mode": {
    "name": "ipython",
    "version": 3
   },
   "file_extension": ".py",
   "mimetype": "text/x-python",
   "name": "python",
   "nbconvert_exporter": "python",
   "pygments_lexer": "ipython3",
   "version": "3.9.16"
  }
 },
 "nbformat": 4,
 "nbformat_minor": 5
}
